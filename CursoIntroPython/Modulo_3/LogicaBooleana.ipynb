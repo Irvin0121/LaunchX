{
 "cells": [
  {
   "cell_type": "markdown",
   "metadata": {},
   "source": [
    "## Ejercicio 1\n",
    "¿Estamos a salvo del asteroide?\n",
    "Crea una advertencia según la velocidad de un asteroide"
   ]
  },
  {
   "cell_type": "code",
   "execution_count": null,
   "metadata": {},
   "outputs": [],
   "source": [
    "vel_asteroide = int(input(\"Velocidad del asteroide en km/s: \"))\n",
    "\n",
    "if vel_asteroide > 25:\n",
    "    print(\"¡Alerta! Un asteroide se dirige a la Tierra con una velocidad de:\", vel_asteroide, \"km/s.\")\n",
    "else:\n",
    "    print(\"Hoy es un día normal.\")"
   ]
  },
  {
   "cell_type": "markdown",
   "metadata": {},
   "source": [
    "## Ejercicio 2\n",
    "¿Un asteroide provocará un rayo de luz?"
   ]
  },
  {
   "cell_type": "code",
   "execution_count": 6,
   "metadata": {},
   "outputs": [
    {
     "name": "stdout",
     "output_type": "stream",
     "text": [
      "Busca un rayo de luz producido por un asteroide\n"
     ]
    }
   ],
   "source": [
    "vel_asteroide = int(input(\"Velocidad del asteroide en km/s: \"))\n",
    "\n",
    "if vel_asteroide >= 20:\n",
    "    print(\"Busca un rayo de luz en el cielo producido por un asteroide\")\n",
    "else:\n",
    "    print(\"Hoy no podrás ver algo fenomenal :(\")"
   ]
  },
  {
   "cell_type": "markdown",
   "metadata": {},
   "source": [
    "## Ejercicio 3\n",
    "Advertencia: Asteroides a la vista"
   ]
  },
  {
   "cell_type": "code",
   "execution_count": null,
   "metadata": {},
   "outputs": [],
   "source": [
    "vel_asteroide = int(input(\"Velocidad del asteroide en km/s: \"))\n",
    "tam_asteroide = int(input(\"Tamaño del asteroide en m\"))\n",
    "\n",
    "if vel_asteroide > 25 and tam_asteroide > 25:\n",
    "    print(\"¡Alerta! Un asteroide muy grande se dirige a la Tierra con una velocidad de:\", vel_asteroide, \"km/s.\")\n",
    "elif vel_asteroide >= 20:\n",
    "    print(\"Busca un rayo de luz en el cielo producido por un asteroide\")\n",
    "elif tam_asteroide < 25:\n",
    "    print(\"Hoy es un día como cualquier otro\")\n",
    "else:\n",
    "    print(\"Hoy es un día como cualquier otro\")"
   ]
  }
 ],
 "metadata": {
  "interpreter": {
   "hash": "55aa57485931d1bec704753d23d3908f5c4dcbce49ab5e49991306038c258548"
  },
  "kernelspec": {
   "display_name": "Python 3.9.0 64-bit",
   "language": "python",
   "name": "python3"
  },
  "language_info": {
   "codemirror_mode": {
    "name": "ipython",
    "version": 3
   },
   "file_extension": ".py",
   "mimetype": "text/x-python",
   "name": "python",
   "nbconvert_exporter": "python",
   "pygments_lexer": "ipython3",
   "version": "3.9.0"
  },
  "orig_nbformat": 4
 },
 "nbformat": 4,
 "nbformat_minor": 2
}
