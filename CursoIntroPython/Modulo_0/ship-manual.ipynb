{
 "cells": [
  {
   "cell_type": "markdown",
   "metadata": {},
   "source": [
    "# Manual de la Nave"
   ]
  },
  {
   "cell_type": "code",
   "execution_count": null,
   "metadata": {},
   "outputs": [],
   "source": [
    "import ipywidgets as wid\n",
    "\n",
    "ignition = wid.ToggleButton(\n",
    "    value = False,\n",
    "    description = 'Iniciar Launch',\n",
    "    button_style = 'success',\n",
    "    tooltip = 'Engage your launch',\n",
    "    icon = 'rocket'\n",
    ")\n",
    "\n",
    "output = wid.Output()\n",
    "\n",
    "display(ignition, output)\n",
    "\n",
    "def on_value_change(change):\n",
    "    with output:\n",
    "        if change['new'] == True:\n",
    "            print (\"Nave iniciada!\")\n",
    "        else:\n",
    "            print(\"Nave detenida\")\n",
    "\n",
    "ignition.observe(on_value_change, names='value')"
   ]
  },
  {
   "cell_type": "markdown",
   "metadata": {},
   "source": [
    "## Niveles de oxígeno\n",
    "\n",
    "Muestra diez minutos de niveles de oxígeno en tu nave."
   ]
  },
  {
   "cell_type": "code",
   "execution_count": null,
   "metadata": {},
   "outputs": [],
   "source": [
    "import numpy as np\n",
    "import matplotlib.pyplot as plt\n",
    "data = np.random.default_rng(12345)                 # Crea números aleatorios\n",
    "oxy_nums = data.integers(low=0, high=10, size=10)   # Obtiene 10 enteros de data entre 0 y 10\n",
    "\n",
    "plt.bar(range(len(oxy_nums)), oxy_nums)             # Función bar para crear un histograma\n",
    "plt.show()                                          # Muestra la gráfica"
   ]
  },
  {
   "cell_type": "markdown",
   "metadata": {},
   "source": [
    "## Velocidad de la nave\n",
    "\n",
    "Muestra los segundos necesarios para pasar de 0 a 11200 m/s, dada la aceleración de la nave en m/s^2."
   ]
  },
  {
   "cell_type": "code",
   "execution_count": null,
   "metadata": {},
   "outputs": [],
   "source": [
    "endVelocity = 11200\n",
    "startVelocity = 0\n",
    "acceleration = 9.8\n",
    "\n",
    "time = (endVelocity - startVelocity) / acceleration\n",
    "print(\"Tiempo para alcanzar la velocidad deseada =\", time, \"segundos\")"
   ]
  }
 ],
 "metadata": {
  "language_info": {
   "name": "python"
  },
  "orig_nbformat": 4
 },
 "nbformat": 4,
 "nbformat_minor": 2
}
